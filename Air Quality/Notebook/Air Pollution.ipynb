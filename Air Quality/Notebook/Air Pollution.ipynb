{
 "cells": [
  {
   "cell_type": "markdown",
   "metadata": {},
   "source": [
    "# Imports"
   ]
  },
  {
   "cell_type": "code",
   "execution_count": 438,
   "metadata": {
    "ExecuteTime": {
     "end_time": "2019-12-04T10:27:53.120477Z",
     "start_time": "2019-12-04T10:27:53.116841Z"
    }
   },
   "outputs": [],
   "source": [
    "## General\n",
    "import pandas as pd\n",
    "pd.set_option('display.max_columns', 500)\n",
    "import numpy as np\n",
    "import csv\n",
    "import ruptures as rpt\n",
    "import os\n",
    "\n",
    "# Visualisation\n",
    "import matplotlib.pyplot as plt\n",
    "import seaborn as sns"
   ]
  },
  {
   "cell_type": "markdown",
   "metadata": {},
   "source": [
    "# Data Path & Source Links"
   ]
  },
  {
   "cell_type": "code",
   "execution_count": 2,
   "metadata": {
    "ExecuteTime": {
     "end_time": "2019-12-04T04:57:00.112893Z",
     "start_time": "2019-12-04T04:57:00.108822Z"
    }
   },
   "outputs": [],
   "source": [
    "# General\n",
    "root_path = '../'\n",
    "data_path = 'Data/'\n",
    "\n",
    "################## Air Quality Health Impact  #########################\n",
    "# [SOURCE : https://www.stateofglobalair.org]\n",
    "\n",
    "AQHEALTH_DATAPATH = root_path+data_path+'Air_Quality_Health_Impact_Selceted_Countries.csv'\n",
    "#################################################\n",
    "\n",
    "\n",
    "############# Air Quality PM2.5  ###############\n",
    "# [SOURCE : https://climate.nasa.gov/vital-signs/global-temperature/]\n",
    "\n",
    "AQPM25_DATAPATH = root_path+data_path+'Air_Quality_Population_Weighted_Selceted_Countries.csv'\n",
    "#################################################\n",
    "\n",
    "\n",
    "\n",
    "################## Statewise Airquality Data on India  ###############\n",
    "\n",
    "INDIASTATEWISE_DATAPATH = root_path+data_path+'INDIA_AIRPOLLUTION_u2015.csv'\n",
    "#################################################\n",
    "\n",
    "\n",
    "################## Global Deaths by risk factor  ###############\n",
    "# [SOURCE : https://ourworldindata.org/air-pollution]\n",
    "\n",
    "DEATHS_BY_RISKFACTOR_DATAPATH = root_path+data_path+'number-of-deaths-by-risk-factor.csv'\n",
    "#################################################\n",
    "\n",
    "\n",
    "################## Percentage share of deaths by risk factor  ###############\n",
    "# [SOURCE : https://ourworldindata.org/air-pollution]\n",
    "\n",
    "AP_DEATH_SHARE_DATAPATH = root_path+data_path+'share-deaths-air-pollution.csv'\n",
    "#################################################\n"
   ]
  },
  {
   "cell_type": "markdown",
   "metadata": {},
   "source": [
    "# Data Processing Class"
   ]
  },
  {
   "cell_type": "code",
   "execution_count": 3,
   "metadata": {
    "ExecuteTime": {
     "end_time": "2019-12-04T04:57:00.736734Z",
     "start_time": "2019-12-04T04:57:00.732449Z"
    }
   },
   "outputs": [
    {
     "name": "stdout",
     "output_type": "stream",
     "text": [
      "Initialising the Dataprocessing class...\n"
     ]
    }
   ],
   "source": [
    "class DataProcessing:\n",
    "    def __init__(self):\n",
    "        print('Initialising the Dataprocessing class...')\n",
    "        \n",
    "    def processDF1(self,x):\n",
    "        if type(x) == str:\n",
    "            return x.replace('\"', '').strip('=')\n",
    "        else:\n",
    "            return x\n",
    "\n",
    "        \n",
    "dataprocessing_handler = DataProcessing()"
   ]
  },
  {
   "cell_type": "markdown",
   "metadata": {},
   "source": [
    "# Helper Fucntions"
   ]
  },
  {
   "cell_type": "code",
   "execution_count": 54,
   "metadata": {
    "ExecuteTime": {
     "end_time": "2019-12-04T05:28:25.632403Z",
     "start_time": "2019-12-04T05:28:25.624292Z"
    }
   },
   "outputs": [
    {
     "name": "stdout",
     "output_type": "stream",
     "text": [
      "Initialising Helper Function Class...\n"
     ]
    }
   ],
   "source": [
    "class HelperFunctions:\n",
    "    def __init__(self):\n",
    "        print('Initialising Helper Function Class...')\n",
    "        \n",
    "    def save(self, filepath, fig=None):\n",
    "        '''Save the current image with no whitespace\n",
    "        Example filepath: \"myfig.png\" or r\"C:\\myfig.pdf\" \n",
    "        '''\n",
    "        import matplotlib.pyplot as plt\n",
    "        if not fig:\n",
    "            fig = plt.gcf()\n",
    "\n",
    "        plt.subplots_adjust(0,0,1,1,0,0)\n",
    "        for ax in fig.axes:\n",
    "            ax.axis('off')\n",
    "            ax.margins(0,0)\n",
    "            ax.xaxis.set_major_locator(plt.NullLocator())\n",
    "            ax.yaxis.set_major_locator(plt.NullLocator())\n",
    "        fig.savefig(filepath, pad_inches = 0, bbox_inches='tight')\n",
    "        plt.close()\n",
    "        \n",
    "helperFunctionHandler = HelperFunctions()"
   ]
  },
  {
   "cell_type": "markdown",
   "metadata": {},
   "source": [
    "# Load & Prepare the Data"
   ]
  },
  {
   "cell_type": "code",
   "execution_count": 4,
   "metadata": {
    "ExecuteTime": {
     "end_time": "2019-12-04T04:57:01.826457Z",
     "start_time": "2019-12-04T04:57:01.784495Z"
    }
   },
   "outputs": [],
   "source": [
    "AQHEALTH_DATA = pd.read_csv(AQHEALTH_DATAPATH)\n",
    "AQHEALTH_DATA = AQHEALTH_DATA.applymap(dataprocessing_handler.processDF1)\n",
    "AQHEALTH_DATA.columns = [e.replace('\"', '').strip('=') for e in AQHEALTH_DATA.columns]\n",
    "AQHEALTH_DATA.drop([144,145], inplace=True)\n",
    "AQHEALTH_DATA.drop(['Exposure Id',\n",
    "                    'Type',\n",
    "                    'Name', \n",
    "                    'Region',\n",
    "                    'Measure',\n",
    "                    'Metric',\n",
    "                    'Sex',\n",
    "                    'REI Name',\n",
    "                    'Cause Name',\n",
    "                    'Age Group Name',\n",
    "                    'Pollutant',\n",
    "                    'Pollutant Name',\n",
    "                    'Region Name',\n",
    "                    'Measure Name',\n",
    "                    'Metric Name'],inplace=True, axis=1)\n",
    "\n",
    "AQHEALTH_DATA[['Exposure Mean']] = AQHEALTH_DATA[['Exposure Mean']].astype(int)\n",
    "AQHEALTH_DATA[['Exposure Mean Rounded']] = AQHEALTH_DATA[['Exposure Mean Rounded']].astype(int)\n",
    "AQHEALTH_DATA[['Exposure Upper']] = AQHEALTH_DATA[['Exposure Upper']].astype(int)\n",
    "AQHEALTH_DATA[['Exposure Lower']] = AQHEALTH_DATA[['Exposure Lower']].astype(int)\n",
    "AQHEALTH_DATA.Year = pd.to_datetime(AQHEALTH_DATA.Year)\n",
    "AQHEALTH_DATA.set_index('Year', inplace=True) "
   ]
  },
  {
   "cell_type": "code",
   "execution_count": 5,
   "metadata": {
    "ExecuteTime": {
     "end_time": "2019-12-04T04:57:02.301664Z",
     "start_time": "2019-12-04T04:57:02.248719Z"
    }
   },
   "outputs": [],
   "source": [
    "AQPM25_DATA = pd.read_csv(AQPM25_DATAPATH)\n",
    "AQPM25_DATA = AQPM25_DATA.applymap(dataprocessing_handler.processDF1)\n",
    "AQPM25_DATA.columns = [e.replace('\"', '').strip('=') for e in AQPM25_DATA.columns]\n",
    "AQPM25_DATA = AQPM25_DATA.iloc[:-2,:]\n",
    "AQPM25_DATA.drop(['Exposure Id',\n",
    "                  'Type',\n",
    "                  'Name', \n",
    "                  'Region',\n",
    "                  'Region Name',\n",
    "                  'Units',\n",
    "                  'Pollutant',\n",
    "                  'Pollutant Name'],inplace=True, axis=1)\n",
    "\n",
    "AQPM25_DATA[['Exposure Mean']] = AQPM25_DATA[['Exposure Mean']].astype(float)\n",
    "AQPM25_DATA[['Exposure Upper']] = AQPM25_DATA[['Exposure Upper']].astype(float)\n",
    "AQPM25_DATA[['Exposure Lower']] = AQPM25_DATA[['Exposure Lower']].astype(float)\n",
    "AQPM25_DATA.Year = pd.to_datetime(AQPM25_DATA.Year)\n",
    "AQPM25_DATA.set_index('Year', inplace=True) "
   ]
  },
  {
   "cell_type": "code",
   "execution_count": 365,
   "metadata": {
    "ExecuteTime": {
     "end_time": "2019-12-04T09:08:20.337539Z",
     "start_time": "2019-12-04T09:08:16.932394Z"
    }
   },
   "outputs": [
    {
     "name": "stderr",
     "output_type": "stream",
     "text": [
      "/anaconda3/lib/python3.7/site-packages/IPython/core/interactiveshell.py:3058: DtypeWarning:\n",
      "\n",
      "Columns (0) have mixed types. Specify dtype option on import or set low_memory=False.\n",
      "\n"
     ]
    }
   ],
   "source": [
    "INDIASTATEWISE_DATA = pd.read_csv(INDIASTATEWISE_DATAPATH)\n",
    "INDIASTATEWISE_DATA = INDIASTATEWISE_DATA[['date', 'state', 'location', 'type', 'so2', 'no2', 'rspm', 'spm', 'pm2_5']]\n",
    "INDIASTATEWISE_DATA.date = pd.to_datetime(INDIASTATEWISE_DATA.date)\n",
    "INDIASTATEWISE_DATA.set_index('date', inplace=True)\n",
    "INDIASTATEWISE_DATA['Year'] = [e.year for e in INDIASTATEWISE_DATA.index]\n",
    "INDIASTATEWISE_DATA = INDIASTATEWISE_DATA.groupby(['Year', 'state'])[['so2', 'no2', 'rspm', 'spm', 'pm2_5']].mean().reset_index()\n",
    "INDIASTATEWISE_DATA = INDIASTATEWISE_DATA[INDIASTATEWISE_DATA.Year >= 2011][['Year', 'state','rspm']].reset_index().drop('index', axis=1)\n",
    "INDIASTATEWISE_DATA.rspm = INDIASTATEWISE_DATA.rspm /300\n",
    "INDIASTATEWISE_DATA.to_csv(root_path+data_path+'mapData.csv')"
   ]
  },
  {
   "cell_type": "code",
   "execution_count": 12,
   "metadata": {
    "ExecuteTime": {
     "end_time": "2019-12-04T05:01:39.392975Z",
     "start_time": "2019-12-04T05:01:39.342240Z"
    }
   },
   "outputs": [],
   "source": [
    "DEATHS_BY_RISKFACTOR_DATA = pd.read_csv(DEATHS_BY_RISKFACTOR_DATAPATH, index_col=2)\n",
    "DEATHS_BY_RISKFACTOR_DATA.index = pd.to_datetime(DEATHS_BY_RISKFACTOR_DATA.index, format='%Y')\n",
    "DEATHS_BY_RISKFACTOR_DATA = DEATHS_BY_RISKFACTOR_DATA[DEATHS_BY_RISKFACTOR_DATA.Entity == 'World']\n",
    "DEATHS_BY_RISKFACTOR_DATA = DEATHS_BY_RISKFACTOR_DATA.reset_index().drop(np.arange(1,DEATHS_BY_RISKFACTOR_DATA.shape[0]-1)).set_index('Year')\n",
    "DEATHS_BY_RISKFACTOR_DATA.drop(['Entity', 'Code'], axis=1, inplace=True)"
   ]
  },
  {
   "cell_type": "code",
   "execution_count": null,
   "metadata": {},
   "outputs": [],
   "source": [
    "DEATHS_BY_RISKFACTOR_DATA = pd.read_csv(AP_DEATH_SHARE_DATAPATH, index_col=2)\n",
    "DEATHS_BY_RISKFACTOR_DATA.index = pd.to_datetime(DEATHS_BY_RISKFACTOR_DATA.index, format='%Y')\n",
    "DEATHS_BY_RISKFACTOR_DATA = DEATHS_BY_RISKFACTOR_DATA[DEATHS_BY_RISKFACTOR_DATA.Entity == 'World']\n",
    "DEATHS_BY_RISKFACTOR_DATA = DEATHS_BY_RISKFACTOR_DATA.reset_index().drop(np.arange(1,DEATHS_BY_RISKFACTOR_DATA.shape[0]-1)).set_index('Year')\n",
    "DEATHS_BY_RISKFACTOR_DATA.drop(['Entity', 'Code'], axis=1, inplace=True)"
   ]
  },
  {
   "cell_type": "code",
   "execution_count": 475,
   "metadata": {
    "ExecuteTime": {
     "end_time": "2019-12-04T10:36:43.114040Z",
     "start_time": "2019-12-04T10:36:42.926407Z"
    }
   },
   "outputs": [
    {
     "name": "stderr",
     "output_type": "stream",
     "text": [
      "/anaconda3/lib/python3.7/site-packages/ipykernel_launcher.py:22: FutureWarning:\n",
      "\n",
      "Sorting because non-concatenation axis is not aligned. A future version\n",
      "of pandas will change to not sort by default.\n",
      "\n",
      "To accept the future behavior, pass 'sort=False'.\n",
      "\n",
      "To retain the current behavior and silence the warning, pass 'sort=True'.\n",
      "\n",
      "\n"
     ]
    }
   ],
   "source": [
    "delhiap = ['cpcb_dly_aq_delhi-2004.csv',\n",
    " 'cpcb_dly_aq_delhi-2005.csv',\n",
    " 'cpcb_dly_aq_delhi-2011.csv',\n",
    " 'cpcb_dly_aq_delhi-2007.csv',\n",
    " 'cpcb_dly_aq_delhi-2013.csv',\n",
    " 'cpcb_dly_aq_delhi-2012.csv',\n",
    " 'cpcb_dly_aq_delhi-2006.csv',\n",
    " 'cpcb_dly_aq_delhi-2002.csv',\n",
    " 'cpcb_dly_aq_delhi-2003.csv',\n",
    " 'cpcb_dly_aq_delhi-2015.csv',\n",
    " 'cpcb_dly_aq_delhi-2001.csv',\n",
    " 'cpcb_dly_aq_delhi-2000.csv',\n",
    " 'cpcb_dly_aq_delhi-2014.csv',\n",
    " 'cpcb_dly_aq_delhi-2008.csv',\n",
    " 'cpcb_dly_aq_delhi-2009.csv']\n",
    "DELHI_AQ = pd.DataFrame()\n",
    "for each in delhiap:\n",
    "    y = each.split('-')[-1][:4]\n",
    "    t = pd.read_csv(root_path+data_path+each, index_col=0)\n",
    "    t.index = [y]*t.shape[0]\n",
    "    t.index.name = 'Year'\n",
    "    DELHI_AQ = pd.concat([DELHI_AQ, t])\n",
    "\n",
    "DELHI_AQ.reset_index(inplace=True)\n",
    "DELHI_AQ =  DELHI_AQ[['Year', 'NO2', 'PM 2.5', 'RSPM/PM10', 'SO2', 'SPM']]\n",
    "DELHI_AQ = DELHI_AQ.groupby(['Year']).mean()[['RSPM/PM10']].dropna()"
   ]
  },
  {
   "cell_type": "markdown",
   "metadata": {},
   "source": [
    "# Prepare Graph"
   ]
  },
  {
   "cell_type": "markdown",
   "metadata": {},
   "source": [
    "## Air Quality Health Measures"
   ]
  },
  {
   "cell_type": "code",
   "execution_count": 323,
   "metadata": {
    "ExecuteTime": {
     "end_time": "2019-12-01T17:34:46.050565Z",
     "start_time": "2019-12-01T17:34:44.346506Z"
    }
   },
   "outputs": [],
   "source": [
    "plt.rcParams['figure.dpi'] = 180\n",
    "plt.rcParams['figure.figsize'] = (50,30)\n",
    "plt.rcParams['lines.marker'] = 'o'\n",
    "plt.rcParams['lines.markeredgecolor'] = 'black'\n",
    "plt.rcParams['lines.markeredgewidth'] = 2\n",
    "plt.rcParams['lines.markersize'] = 25\n",
    "ax, fig = plt.subplots()\n",
    "\n",
    "ax=sns.lineplot(x='Year', y='Exposure Mean',\n",
    "                data = AQHEALTH_DATA.reset_index(),\n",
    "                hue = 'Country',\n",
    "                legend = 'brief',\n",
    "                linewidth = 5,\n",
    "                marker = 'o',\n",
    "                markeredgecolor = 'black',\n",
    "                markeredgewidth = 2,\n",
    "                markersize = 25)\n",
    "_=plt.legend(fontsize=40, bbox_to_anchor=(1.01, 1.0))\n",
    "_=plt.grid(which = 'both')\n",
    "_=plt.xlabel('Year', fontsize=45)\n",
    "_=plt.ylabel('Number of deaths attributable to PM2.5(x10,000)', fontsize=45)\n",
    "# _=plt.title('Exposure Mean', fontsize=60)\n",
    "_=plt.xticks(fontsize=35)\n",
    "_=plt.yticks(fontsize=35)\n",
    "\n",
    "\n",
    "plt.close()\n",
    "_=ax.figure.savefig(root_path+'Material/air_health.jpg', bbox_inches=\"tight\")"
   ]
  },
  {
   "cell_type": "markdown",
   "metadata": {},
   "source": [
    "## Air Quality PM2.5 Measures"
   ]
  },
  {
   "cell_type": "code",
   "execution_count": 342,
   "metadata": {
    "ExecuteTime": {
     "end_time": "2019-12-01T18:36:03.395728Z",
     "start_time": "2019-12-01T18:36:01.413703Z"
    }
   },
   "outputs": [],
   "source": [
    "plt.rcParams['figure.dpi'] = 180\n",
    "plt.rcParams['figure.figsize'] = (50,30)\n",
    "plt.rcParams['lines.marker'] = 'o'\n",
    "plt.rcParams['lines.markeredgecolor'] = 'black'\n",
    "plt.rcParams['lines.markeredgewidth'] = 2\n",
    "plt.rcParams['lines.markersize'] = 25\n",
    "ax, fig = plt.subplots()\n",
    "\n",
    "AQPM25_DATA = AQPM25_DATA[AQPM25_DATA.Country.isin(['Afghanistan', 'Australia', \n",
    "                                                   'Bangladesh', 'Bhutan', \n",
    "                                                   'Canada','Brazil','India',\n",
    "                                                   'China', 'Finland',\n",
    "                                                   'Germany', 'Greenland', \n",
    "                                                   'Greenland', 'Nepal', \n",
    "                                                   'Pakistan','Russian Federation', \n",
    "                                                   'Sri Lanka', 'United Arab Emirates', \n",
    "                                                   'United Kingdom', 'United States'])]\n",
    "\n",
    "ax=sns.lineplot(x='Year', y='Exposure Mean',\n",
    "                data = AQPM25_DATA.reset_index(),\n",
    "                hue = 'Country',\n",
    "                legend = 'brief',\n",
    "                linewidth = 5,\n",
    "                marker = 'o',\n",
    "#                 palette = 'twilight',\n",
    "                palette = 'dark',\n",
    "\n",
    "                markeredgecolor = 'black',\n",
    "                markeredgewidth = 2,\n",
    "                markersize = 25)\n",
    "# ax.set_facecolor(\"RdYlGn\")\n",
    "\n",
    "_=plt.legend(fontsize=40, bbox_to_anchor=(1.01, 1.0))\n",
    "_=plt.grid(which = 'both')\n",
    "_=plt.xlabel('Year', fontsize=45)\n",
    "_=plt.ylabel('PM2.5 Measures', fontsize=45)\n",
    "# _=plt.title('Exposure Mean', fontsize=60)\n",
    "_=plt.xticks(fontsize=35)\n",
    "_=plt.yticks(fontsize=35)\n",
    "\n",
    "\n",
    "plt.close()\n",
    "_=ax.figure.savefig(root_path+'Material/pm2.5.jpg', bbox_inches=\"tight\")"
   ]
  },
  {
   "cell_type": "markdown",
   "metadata": {},
   "source": [
    "## Air Pollution Deaths Share"
   ]
  },
  {
   "cell_type": "code",
   "execution_count": 504,
   "metadata": {
    "ExecuteTime": {
     "end_time": "2019-12-04T19:37:50.486854Z",
     "start_time": "2019-12-04T19:37:49.935701Z"
    }
   },
   "outputs": [],
   "source": [
    "plt.rcParams['figure.dpi'] = 120\n",
    "plt.rcParams['figure.figsize'] = (100,4)\n",
    "t = pd.read_csv(AP_DEATH_SHARE_DATAPATH)\n",
    "t = t[t.Entity == 'World'].iloc[:,-2:].set_index('Year')\n",
    "# ax = t.plot.bar(color='black', width=0.5, legend=False)\n",
    "ax = t.plot(color='black', legend=False)\n",
    "\n",
    "\n",
    "_=plt.xticks(rotation=0, fontsize=50)\n",
    "_=plt.yticks(fontsize=30)\n",
    "_=ax.figure.savefig(root_path+'Material/worldShareDeath1.png', bbox_inches=\"tight\",transparent=True)\n",
    "plt.close()"
   ]
  },
  {
   "cell_type": "markdown",
   "metadata": {},
   "source": [
    "## Death By Risk Factor"
   ]
  },
  {
   "cell_type": "code",
   "execution_count": 386,
   "metadata": {
    "ExecuteTime": {
     "end_time": "2019-12-04T09:33:36.851274Z",
     "start_time": "2019-12-04T09:33:36.848130Z"
    }
   },
   "outputs": [],
   "source": [
    "plt.rcParams['figure.dpi'] = 180\n",
    "plt.rcParams['figure.figsize'] = (25,25)\n",
    "plt.rcParams['font.weight'] = 'bold'\n",
    "\n",
    "usefulCols = ['Unsafe water source (deaths)',\n",
    "                'Poor sanitation (deaths)',\n",
    "                'Alcohol use (deaths)',\n",
    "                'Unsafe sex (deaths)',\n",
    "                'Obesity (deaths)',\n",
    "                'Smoking (deaths)',\n",
    "                'Indoor air pollution (deaths)',\n",
    "                'Air pollution (outdoor & indoor) (deaths)',\n",
    "                'Outdoor air pollution (deaths)']\n",
    "\n",
    "t = DEATHS_BY_RISKFACTOR_DATA[usefulCols]\n",
    "t['Others'] = DEATHS_BY_RISKFACTOR_DATA[[e for e in DEATHS_BY_RISKFACTOR_DATA.columns if e not in usefulCols]].sum(axis=1)\n",
    "\n",
    "ax = t.T['1990-01-01'].plot('pie', fontsize=60, \n",
    "                            rotatelabels=False,\n",
    "                            explode = [0, 0, 0, 0, 0, 0, 0, 0, 0.2, 0],\n",
    "                            shadow = True)\n",
    "centre_circle = plt.Circle((0,0),0.40,fc='white')\n",
    "fig = plt.gcf()\n",
    "fig.gca().add_artist(centre_circle)\n",
    "\n",
    "_=plt.xlabel('', fontsize=45)\n",
    "_=plt.ylabel('', fontsize=45)\n",
    "_=fig.patch.set_visible(False)\n",
    "_=ax.figure.savefig(root_path+'Material/riskfactor1990.png', bbox_inches=\"tight\",transparent=True)\n"
   ]
  },
  {
   "cell_type": "code",
   "execution_count": 387,
   "metadata": {
    "ExecuteTime": {
     "end_time": "2019-12-04T09:33:38.902464Z",
     "start_time": "2019-12-04T09:33:38.899463Z"
    }
   },
   "outputs": [],
   "source": [
    "plt.rcParams['figure.dpi'] = 180\n",
    "plt.rcParams['figure.figsize'] = (25,25)\n",
    "plt.rcParams['font.weight'] = 'bold'\n",
    "\n",
    "usefulCols = ['Unsafe water source (deaths)',\n",
    "                'Poor sanitation (deaths)',\n",
    "                'Alcohol use (deaths)',\n",
    "                'Unsafe sex (deaths)',\n",
    "                'Obesity (deaths)',\n",
    "                'Smoking (deaths)',\n",
    "                'Indoor air pollution (deaths)',\n",
    "                'Air pollution (outdoor & indoor) (deaths)',\n",
    "                'Outdoor air pollution (deaths)']\n",
    "\n",
    "t = DEATHS_BY_RISKFACTOR_DATA[usefulCols]\n",
    "t['Others'] = DEATHS_BY_RISKFACTOR_DATA[[e for e in DEATHS_BY_RISKFACTOR_DATA.columns if e not in usefulCols]].sum(axis=1)\n",
    "\n",
    "ax = t.T['2017-01-01'].plot('pie', fontsize=60, \n",
    "                            rotatelabels=False,\n",
    "                            explode = [0, 0, 0, 0, 0, 0, 0, 0, 0.2, 0],\n",
    "                            shadow = True)\n",
    "centre_circle = plt.Circle((0,0),0.40,fc='white')\n",
    "fig = plt.gcf()\n",
    "fig.gca().add_artist(centre_circle)\n",
    "\n",
    "_=plt.xlabel('', fontsize=45)\n",
    "_=plt.ylabel('', fontsize=45)\n",
    "_=ax.figure.savefig(root_path+'Material/riskfactor2017.png', bbox_inches=\"tight\",transparent=True)\n",
    "\n"
   ]
  },
  {
   "cell_type": "markdown",
   "metadata": {
    "ExecuteTime": {
     "end_time": "2019-12-04T07:42:50.894600Z",
     "start_time": "2019-12-04T07:42:48.004370Z"
    }
   },
   "source": [
    "## Delhi Air Quality"
   ]
  },
  {
   "cell_type": "code",
   "execution_count": 489,
   "metadata": {
    "ExecuteTime": {
     "end_time": "2019-12-04T16:59:57.601340Z",
     "start_time": "2019-12-04T16:59:57.058222Z"
    }
   },
   "outputs": [],
   "source": [
    "plt.rcParams['figure.dpi'] = 120\n",
    "plt.rcParams['figure.figsize'] = (25,10)\n",
    "ax = DELHI_AQ.plot(kind='bar', color='gray', legend=False)\n",
    "_=plt.xticks(rotation=0, fontsize=20)\n",
    "_=plt.yticks(fontsize=20)\n",
    "_=plt.xlabel('Year', fontsize=30)\n",
    "_=plt.ylabel('RSPM/PM10', fontsize=30)\n",
    "\n",
    "_=ax.figure.savefig(root_path+'Material/DELHIAQ.png', bbox_inches=\"tight\",transparent=True)\n",
    "plt.close()"
   ]
  }
 ],
 "metadata": {
  "kernelspec": {
   "display_name": "Python 3",
   "language": "python",
   "name": "python3"
  },
  "language_info": {
   "codemirror_mode": {
    "name": "ipython",
    "version": 3
   },
   "file_extension": ".py",
   "mimetype": "text/x-python",
   "name": "python",
   "nbconvert_exporter": "python",
   "pygments_lexer": "ipython3",
   "version": "3.7.1"
  },
  "toc": {
   "base_numbering": 1,
   "nav_menu": {},
   "number_sections": true,
   "sideBar": true,
   "skip_h1_title": false,
   "title_cell": "Table of Contents",
   "title_sidebar": "Contents",
   "toc_cell": false,
   "toc_position": {},
   "toc_section_display": true,
   "toc_window_display": false
  },
  "varInspector": {
   "cols": {
    "lenName": 16,
    "lenType": 16,
    "lenVar": 40
   },
   "kernels_config": {
    "python": {
     "delete_cmd_postfix": "",
     "delete_cmd_prefix": "del ",
     "library": "var_list.py",
     "varRefreshCmd": "print(var_dic_list())"
    },
    "r": {
     "delete_cmd_postfix": ") ",
     "delete_cmd_prefix": "rm(",
     "library": "var_list.r",
     "varRefreshCmd": "cat(var_dic_list()) "
    }
   },
   "types_to_exclude": [
    "module",
    "function",
    "builtin_function_or_method",
    "instance",
    "_Feature"
   ],
   "window_display": false
  }
 },
 "nbformat": 4,
 "nbformat_minor": 2
}
